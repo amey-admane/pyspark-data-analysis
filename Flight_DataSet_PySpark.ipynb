{
  "nbformat": 4,
  "nbformat_minor": 0,
  "metadata": {
    "colab": {
      "provenance": []
    },
    "kernelspec": {
      "name": "python3",
      "display_name": "Python 3"
    },
    "language_info": {
      "name": "python"
    }
  },
  "cells": [
    {
      "cell_type": "code",
      "execution_count": null,
      "metadata": {
        "colab": {
          "base_uri": "https://localhost:8080/"
        },
        "id": "ujdaOzmhuCRD",
        "outputId": "cd534de6-a2aa-4cc6-f4e6-b00ddf35be15"
      },
      "outputs": [
        {
          "output_type": "stream",
          "name": "stdout",
          "text": [
            "Requirement already satisfied: pyspark in /usr/local/lib/python3.10/dist-packages (3.5.3)\n",
            "Requirement already satisfied: py4j==0.10.9.7 in /usr/local/lib/python3.10/dist-packages (from pyspark) (0.10.9.7)\n"
          ]
        }
      ],
      "source": [
        "!pip install pyspark"
      ]
    },
    {
      "cell_type": "code",
      "source": [],
      "metadata": {
        "id": "ZeK0ZyGrug9u"
      },
      "execution_count": null,
      "outputs": []
    },
    {
      "cell_type": "code",
      "source": [
        "from pyspark.sql import SparkSession\n",
        "spark = SparkSession.builder.appName(\"analysis-flights\").master(\"local[2]\").getOrCreate()"
      ],
      "metadata": {
        "id": "-X4bRZ9juuYU"
      },
      "execution_count": null,
      "outputs": []
    },
    {
      "cell_type": "code",
      "source": [
        "spark"
      ],
      "metadata": {
        "colab": {
          "base_uri": "https://localhost:8080/",
          "height": 219
        },
        "id": "-OTUFK_duxmg",
        "outputId": "606ddeba-a1af-45e0-8042-7069500e1201"
      },
      "execution_count": null,
      "outputs": [
        {
          "output_type": "execute_result",
          "data": {
            "text/plain": [
              "<pyspark.sql.session.SparkSession at 0x78df633f16f0>"
            ],
            "text/html": [
              "\n",
              "            <div>\n",
              "                <p><b>SparkSession - in-memory</b></p>\n",
              "                \n",
              "        <div>\n",
              "            <p><b>SparkContext</b></p>\n",
              "\n",
              "            <p><a href=\"http://baa011816cb9:4040\">Spark UI</a></p>\n",
              "\n",
              "            <dl>\n",
              "              <dt>Version</dt>\n",
              "                <dd><code>v3.5.3</code></dd>\n",
              "              <dt>Master</dt>\n",
              "                <dd><code>local[2]</code></dd>\n",
              "              <dt>AppName</dt>\n",
              "                <dd><code>analysis-flights</code></dd>\n",
              "            </dl>\n",
              "        </div>\n",
              "        \n",
              "            </div>\n",
              "        "
            ]
          },
          "metadata": {},
          "execution_count": 3
        }
      ]
    },
    {
      "cell_type": "code",
      "source": [
        "flight_df = (spark.read\n",
        "  .format(\"csv\")\n",
        "  .option(\"mode\", \"PERMISSIVE\")\n",
        "  .option(\"header\",True)\n",
        "  .load(\"flights.csv\"))"
      ],
      "metadata": {
        "id": "SncwP0Wdu1Ut"
      },
      "execution_count": null,
      "outputs": []
    },
    {
      "cell_type": "code",
      "source": [
        "flight_df.show()"
      ],
      "metadata": {
        "colab": {
          "base_uri": "https://localhost:8080/"
        },
        "id": "JInJAz7-weLR",
        "outputId": "90b09a00-c172-4f80-f66d-7d228e4f0fee"
      },
      "execution_count": null,
      "outputs": [
        {
          "output_type": "stream",
          "name": "stdout",
          "text": [
            "+---+----+-----+---+--------+--------------+---------+--------+--------------+---------+-------+------+-------+------+----+--------+--------+----+------+-------------------+--------------------+\n",
            "| id|year|month|day|dep_time|sched_dep_time|dep_delay|arr_time|sched_arr_time|arr_delay|carrier|flight|tailnum|origin|dest|air_time|distance|hour|minute|          time_hour|                name|\n",
            "+---+----+-----+---+--------+--------------+---------+--------+--------------+---------+-------+------+-------+------+----+--------+--------+----+------+-------------------+--------------------+\n",
            "|  0|2013|    1|  1|   517.0|           515|      2.0|   830.0|           819|     11.0|     UA|  1545| N14228|   EWR| IAH|   227.0|    1400|   5|    15|2013-01-01 05:00:00|United Air Lines ...|\n",
            "|  1|2013|    1|  1|   533.0|           529|      4.0|   850.0|           830|     20.0|     UA|  1714| N24211|   LGA| IAH|   227.0|    1416|   5|    29|2013-01-01 05:00:00|United Air Lines ...|\n",
            "|  2|2013|    1|  1|   542.0|           540|      2.0|   923.0|           850|     33.0|     AA|  1141| N619AA|   JFK| MIA|   160.0|    1089|   5|    40|2013-01-01 05:00:00|American Airlines...|\n",
            "|  3|2013|    1|  1|   544.0|           545|     -1.0|  1004.0|          1022|    -18.0|     B6|   725| N804JB|   JFK| BQN|   183.0|    1576|   5|    45|2013-01-01 05:00:00|     JetBlue Airways|\n",
            "|  4|2013|    1|  1|   554.0|           600|     -6.0|   812.0|           837|    -25.0|     DL|   461| N668DN|   LGA| ATL|   116.0|     762|   6|     0|2013-01-01 06:00:00|Delta Air Lines Inc.|\n",
            "|  5|2013|    1|  1|   554.0|           558|     -4.0|   740.0|           728|     12.0|     UA|  1696| N39463|   EWR| ORD|   150.0|     719|   5|    58|2013-01-01 05:00:00|United Air Lines ...|\n",
            "|  6|2013|    1|  1|   555.0|           600|     -5.0|   913.0|           854|     19.0|     B6|   507| N516JB|   EWR| FLL|   158.0|    1065|   6|     0|2013-01-01 06:00:00|     JetBlue Airways|\n",
            "|  7|2013|    1|  1|   557.0|           600|     -3.0|   709.0|           723|    -14.0|     EV|  5708| N829AS|   LGA| IAD|    53.0|     229|   6|     0|2013-01-01 06:00:00|ExpressJet Airlin...|\n",
            "|  8|2013|    1|  1|   557.0|           600|     -3.0|   838.0|           846|     -8.0|     B6|    79| N593JB|   JFK| MCO|   140.0|     944|   6|     0|2013-01-01 06:00:00|     JetBlue Airways|\n",
            "|  9|2013|    1|  1|   558.0|           600|     -2.0|   753.0|           745|      8.0|     AA|   301| N3ALAA|   LGA| ORD|   138.0|     733|   6|     0|2013-01-01 06:00:00|American Airlines...|\n",
            "| 10|2013|    1|  1|   558.0|           600|     -2.0|   849.0|           851|     -2.0|     B6|    49| N793JB|   JFK| PBI|   149.0|    1028|   6|     0|2013-01-01 06:00:00|     JetBlue Airways|\n",
            "| 11|2013|    1|  1|   558.0|           600|     -2.0|   853.0|           856|     -3.0|     B6|    71| N657JB|   JFK| TPA|   158.0|    1005|   6|     0|2013-01-01 06:00:00|     JetBlue Airways|\n",
            "| 12|2013|    1|  1|   558.0|           600|     -2.0|   924.0|           917|      7.0|     UA|   194| N29129|   JFK| LAX|   345.0|    2475|   6|     0|2013-01-01 06:00:00|United Air Lines ...|\n",
            "| 13|2013|    1|  1|   558.0|           600|     -2.0|   923.0|           937|    -14.0|     UA|  1124| N53441|   EWR| SFO|   361.0|    2565|   6|     0|2013-01-01 06:00:00|United Air Lines ...|\n",
            "| 14|2013|    1|  1|   559.0|           600|     -1.0|   941.0|           910|     31.0|     AA|   707| N3DUAA|   LGA| DFW|   257.0|    1389|   6|     0|2013-01-01 06:00:00|American Airlines...|\n",
            "| 15|2013|    1|  1|   559.0|           559|      0.0|   702.0|           706|     -4.0|     B6|  1806| N708JB|   JFK| BOS|    44.0|     187|   5|    59|2013-01-01 05:00:00|     JetBlue Airways|\n",
            "| 16|2013|    1|  1|   559.0|           600|     -1.0|   854.0|           902|     -8.0|     UA|  1187| N76515|   EWR| LAS|   337.0|    2227|   6|     0|2013-01-01 06:00:00|United Air Lines ...|\n",
            "| 17|2013|    1|  1|   600.0|           600|      0.0|   851.0|           858|     -7.0|     B6|   371| N595JB|   LGA| FLL|   152.0|    1076|   6|     0|2013-01-01 06:00:00|     JetBlue Airways|\n",
            "| 18|2013|    1|  1|   600.0|           600|      0.0|   837.0|           825|     12.0|     MQ|  4650| N542MQ|   LGA| ATL|   134.0|     762|   6|     0|2013-01-01 06:00:00|           Envoy Air|\n",
            "| 19|2013|    1|  1|   601.0|           600|      1.0|   844.0|           850|     -6.0|     B6|   343| N644JB|   EWR| PBI|   147.0|    1023|   6|     0|2013-01-01 06:00:00|     JetBlue Airways|\n",
            "+---+----+-----+---+--------+--------------+---------+--------+--------------+---------+-------+------+-------+------+----+--------+--------+----+------+-------------------+--------------------+\n",
            "only showing top 20 rows\n",
            "\n"
          ]
        }
      ]
    },
    {
      "cell_type": "code",
      "source": [
        "spark.catalog.listDatabases()"
      ],
      "metadata": {
        "colab": {
          "base_uri": "https://localhost:8080/"
        },
        "id": "Ykp3k-1kwlGj",
        "outputId": "2ed5d92a-80cc-4cc2-f653-1cc782cc9589"
      },
      "execution_count": null,
      "outputs": [
        {
          "output_type": "execute_result",
          "data": {
            "text/plain": [
              "[Database(name='default', catalog='spark_catalog', description='default database', locationUri='file:/content/spark-warehouse')]"
            ]
          },
          "metadata": {},
          "execution_count": 9
        }
      ]
    },
    {
      "cell_type": "code",
      "source": [
        "spark.catalog.listTables()"
      ],
      "metadata": {
        "colab": {
          "base_uri": "https://localhost:8080/"
        },
        "id": "o4ugMzjG4W8D",
        "outputId": "bb000419-4737-4ab3-e839-1bb8d6a64b7a"
      },
      "execution_count": null,
      "outputs": [
        {
          "output_type": "execute_result",
          "data": {
            "text/plain": [
              "[]"
            ]
          },
          "metadata": {},
          "execution_count": 10
        }
      ]
    },
    {
      "cell_type": "code",
      "source": [
        "flight_df.describe().show()"
      ],
      "metadata": {
        "colab": {
          "base_uri": "https://localhost:8080/"
        },
        "id": "g89hYrBv4axz",
        "outputId": "6befede7-e656-4adc-e34c-0d5fb14c8d1b"
      },
      "execution_count": null,
      "outputs": [
        {
          "output_type": "stream",
          "name": "stdout",
          "text": [
            "+-------+-----------------+------+------------------+-----------------+------------------+------------------+------------------+------------------+-----------------+-----------------+-------+------------------+-------+------+------+------------------+------------------+------------------+------------------+-------------------+--------------------+\n",
            "|summary|               id|  year|             month|              day|          dep_time|    sched_dep_time|         dep_delay|          arr_time|   sched_arr_time|        arr_delay|carrier|            flight|tailnum|origin|  dest|          air_time|          distance|              hour|            minute|          time_hour|                name|\n",
            "+-------+-----------------+------+------------------+-----------------+------------------+------------------+------------------+------------------+-----------------+-----------------+-------+------------------+-------+------+------+------------------+------------------+------------------+------------------+-------------------+--------------------+\n",
            "|  count|           336776|336776|            336776|           336776|            328521|            336776|            328521|            328063|           336776|           327346| 336776|            336776| 334264|336776|336776|            327346|            336776|            336776|            336776|             336776|              336776|\n",
            "|   mean|         168387.5|2013.0| 6.548509988835309|15.71078699194717|1349.1099473093045|1344.2548400123524|12.639070257304708|1502.0549985825894|1536.380220086942| 6.89537675731489|   NULL|1971.9236198541464|   NULL|  NULL|  NULL|150.68646019807787|1039.9126036297123|13.180247404803193| 26.23009953203316|               NULL|                NULL|\n",
            "| stddev|97219.00146576285|   0.0|3.4144572446789234|8.768607101536908|488.28179100116137| 467.3357557342096| 40.21006089213008| 533.2641319903753|497.4571415143923|44.63329169019399|   NULL|1632.4719381393159|   NULL|  NULL|  NULL| 93.68830465900963| 733.2330333236774| 4.661315707848447|19.300845657412882|               NULL|                NULL|\n",
            "|    min|                0|  2013|                 1|                1|               1.0|              1000|              -1.0|               1.0|                1|             -1.0|     9E|                 1| D942DN|   EWR|   ABQ|             100.0|              1005|                 1|                 0|2013-01-01 05:00:00|AirTran Airways C...|\n",
            "|    max|            99999|  2013|                 9|                9|             959.0|               959|              99.0|             959.0|              959|             99.0|     YV|               999| N9EAMQ|   LGA|   XNA|              99.0|               997|                 9|                 9|2013-12-31 23:00:00|      Virgin America|\n",
            "+-------+-----------------+------+------------------+-----------------+------------------+------------------+------------------+------------------+-----------------+-----------------+-------+------------------+-------+------+------+------------------+------------------+------------------+------------------+-------------------+--------------------+\n",
            "\n"
          ]
        }
      ]
    },
    {
      "cell_type": "code",
      "source": [
        "# to check for null values\n",
        "import pyspark.sql.functions as F\n",
        "flight_df.select([F.count(F.when(F.col(c).isNull(), c)).alias(c) for c in flight_df.columns]).show()"
      ],
      "metadata": {
        "colab": {
          "base_uri": "https://localhost:8080/"
        },
        "id": "hrdFVp4252Ac",
        "outputId": "a89b0abc-9b6e-4bee-c924-f16e80269917"
      },
      "execution_count": null,
      "outputs": [
        {
          "output_type": "stream",
          "name": "stdout",
          "text": [
            "+---+----+-----+---+--------+--------------+---------+--------+--------------+---------+-------+------+-------+------+----+--------+--------+----+------+---------+----+\n",
            "| id|year|month|day|dep_time|sched_dep_time|dep_delay|arr_time|sched_arr_time|arr_delay|carrier|flight|tailnum|origin|dest|air_time|distance|hour|minute|time_hour|name|\n",
            "+---+----+-----+---+--------+--------------+---------+--------+--------------+---------+-------+------+-------+------+----+--------+--------+----+------+---------+----+\n",
            "|  0|   0|    0|  0|    8255|             0|     8255|    8713|             0|     9430|      0|     0|   2512|     0|   0|    9430|       0|   0|     0|        0|   0|\n",
            "+---+----+-----+---+--------+--------------+---------+--------+--------------+---------+-------+------+-------+------+----+--------+--------+----+------+---------+----+\n",
            "\n"
          ]
        }
      ]
    },
    {
      "cell_type": "code",
      "source": [
        "flight_df.count(), len(flight_df.columns)"
      ],
      "metadata": {
        "colab": {
          "base_uri": "https://localhost:8080/"
        },
        "id": "WKt2Jeqy6YR9",
        "outputId": "bee8f0c6-f8bb-4dc4-9f18-1003ece3e1d4"
      },
      "execution_count": null,
      "outputs": [
        {
          "output_type": "execute_result",
          "data": {
            "text/plain": [
              "(336776, 21)"
            ]
          },
          "metadata": {},
          "execution_count": 15
        }
      ]
    },
    {
      "cell_type": "code",
      "source": [
        "flight_df.columns"
      ],
      "metadata": {
        "colab": {
          "base_uri": "https://localhost:8080/"
        },
        "id": "jurvr-IC62Jl",
        "outputId": "cebc9b57-7c38-404a-bbd9-5b3573fe002c"
      },
      "execution_count": null,
      "outputs": [
        {
          "output_type": "execute_result",
          "data": {
            "text/plain": [
              "['id',\n",
              " 'year',\n",
              " 'month',\n",
              " 'day',\n",
              " 'dep_time',\n",
              " 'sched_dep_time',\n",
              " 'dep_delay',\n",
              " 'arr_time',\n",
              " 'sched_arr_time',\n",
              " 'arr_delay',\n",
              " 'carrier',\n",
              " 'flight',\n",
              " 'tailnum',\n",
              " 'origin',\n",
              " 'dest',\n",
              " 'air_time',\n",
              " 'distance',\n",
              " 'hour',\n",
              " 'minute',\n",
              " 'time_hour',\n",
              " 'name']"
            ]
          },
          "metadata": {},
          "execution_count": 16
        }
      ]
    },
    {
      "cell_type": "code",
      "source": [
        "flight_df.printSchema()"
      ],
      "metadata": {
        "colab": {
          "base_uri": "https://localhost:8080/"
        },
        "id": "3ysPFK1c7Cs8",
        "outputId": "5913eeb1-d600-4e1d-8de5-7d50e756d4e1"
      },
      "execution_count": null,
      "outputs": [
        {
          "output_type": "stream",
          "name": "stdout",
          "text": [
            "root\n",
            " |-- id: string (nullable = true)\n",
            " |-- year: string (nullable = true)\n",
            " |-- month: string (nullable = true)\n",
            " |-- day: string (nullable = true)\n",
            " |-- dep_time: string (nullable = true)\n",
            " |-- sched_dep_time: string (nullable = true)\n",
            " |-- dep_delay: string (nullable = true)\n",
            " |-- arr_time: string (nullable = true)\n",
            " |-- sched_arr_time: string (nullable = true)\n",
            " |-- arr_delay: string (nullable = true)\n",
            " |-- carrier: string (nullable = true)\n",
            " |-- flight: string (nullable = true)\n",
            " |-- tailnum: string (nullable = true)\n",
            " |-- origin: string (nullable = true)\n",
            " |-- dest: string (nullable = true)\n",
            " |-- air_time: string (nullable = true)\n",
            " |-- distance: string (nullable = true)\n",
            " |-- hour: string (nullable = true)\n",
            " |-- minute: string (nullable = true)\n",
            " |-- time_hour: string (nullable = true)\n",
            " |-- name: string (nullable = true)\n",
            "\n"
          ]
        }
      ]
    },
    {
      "cell_type": "code",
      "source": [
        "# Summary statistics (like count, mean, stddev, min, max)\n",
        "flight_df.describe().show()\n"
      ],
      "metadata": {
        "colab": {
          "base_uri": "https://localhost:8080/"
        },
        "id": "OqJJeteH7njb",
        "outputId": "193e03b5-5ee1-4e12-93e5-e8b2d78e6a33"
      },
      "execution_count": null,
      "outputs": [
        {
          "output_type": "stream",
          "name": "stdout",
          "text": [
            "+-------+-----------------+------+------------------+-----------------+------------------+------------------+------------------+------------------+-----------------+-----------------+-------+------------------+-------+------+------+------------------+------------------+------------------+------------------+-------------------+--------------------+\n",
            "|summary|               id|  year|             month|              day|          dep_time|    sched_dep_time|         dep_delay|          arr_time|   sched_arr_time|        arr_delay|carrier|            flight|tailnum|origin|  dest|          air_time|          distance|              hour|            minute|          time_hour|                name|\n",
            "+-------+-----------------+------+------------------+-----------------+------------------+------------------+------------------+------------------+-----------------+-----------------+-------+------------------+-------+------+------+------------------+------------------+------------------+------------------+-------------------+--------------------+\n",
            "|  count|           336776|336776|            336776|           336776|            328521|            336776|            328521|            328063|           336776|           327346| 336776|            336776| 334264|336776|336776|            327346|            336776|            336776|            336776|             336776|              336776|\n",
            "|   mean|         168387.5|2013.0| 6.548509988835309|15.71078699194717|1349.1099473093045|1344.2548400123524|12.639070257304708|1502.0549985825894|1536.380220086942| 6.89537675731489|   NULL|1971.9236198541464|   NULL|  NULL|  NULL|150.68646019807787|1039.9126036297123|13.180247404803193| 26.23009953203316|               NULL|                NULL|\n",
            "| stddev|97219.00146576285|   0.0|3.4144572446789234|8.768607101536908|488.28179100116137| 467.3357557342096| 40.21006089213008| 533.2641319903753|497.4571415143923|44.63329169019399|   NULL|1632.4719381393159|   NULL|  NULL|  NULL| 93.68830465900963| 733.2330333236774| 4.661315707848447|19.300845657412882|               NULL|                NULL|\n",
            "|    min|                0|  2013|                 1|                1|               1.0|              1000|              -1.0|               1.0|                1|             -1.0|     9E|                 1| D942DN|   EWR|   ABQ|             100.0|              1005|                 1|                 0|2013-01-01 05:00:00|AirTran Airways C...|\n",
            "|    max|            99999|  2013|                 9|                9|             959.0|               959|              99.0|             959.0|              959|             99.0|     YV|               999| N9EAMQ|   LGA|   XNA|              99.0|               997|                 9|                 9|2013-12-31 23:00:00|      Virgin America|\n",
            "+-------+-----------------+------+------------------+-----------------+------------------+------------------+------------------+------------------+-----------------+-----------------+-------+------------------+-------+------+------+------------------+------------------+------------------+------------------+-------------------+--------------------+\n",
            "\n"
          ]
        }
      ]
    },
    {
      "cell_type": "code",
      "source": [
        "\n",
        "# Extended summary statistics for each column\n",
        "flight_df.summary().show()\n"
      ],
      "metadata": {
        "colab": {
          "base_uri": "https://localhost:8080/"
        },
        "id": "deQNO2n47rFA",
        "outputId": "62cfe288-c766-4d53-a7d1-6432ff2d0ec4"
      },
      "execution_count": null,
      "outputs": [
        {
          "output_type": "stream",
          "name": "stdout",
          "text": [
            "+-------+-----------------+------+------------------+-----------------+------------------+------------------+------------------+------------------+-----------------+-----------------+-------+------------------+-------+------+------+------------------+------------------+------------------+------------------+-------------------+--------------------+\n",
            "|summary|               id|  year|             month|              day|          dep_time|    sched_dep_time|         dep_delay|          arr_time|   sched_arr_time|        arr_delay|carrier|            flight|tailnum|origin|  dest|          air_time|          distance|              hour|            minute|          time_hour|                name|\n",
            "+-------+-----------------+------+------------------+-----------------+------------------+------------------+------------------+------------------+-----------------+-----------------+-------+------------------+-------+------+------+------------------+------------------+------------------+------------------+-------------------+--------------------+\n",
            "|  count|           336776|336776|            336776|           336776|            328521|            336776|            328521|            328063|           336776|           327346| 336776|            336776| 334264|336776|336776|            327346|            336776|            336776|            336776|             336776|              336776|\n",
            "|   mean|         168387.5|2013.0| 6.548509988835309|15.71078699194717|1349.1099473093045|1344.2548400123524|12.639070257304708|1502.0549985825894|1536.380220086942| 6.89537675731489|   NULL|1971.9236198541464|   NULL|  NULL|  NULL|150.68646019807787|1039.9126036297123|13.180247404803193| 26.23009953203316|               NULL|                NULL|\n",
            "| stddev|97219.00146576285|   0.0|3.4144572446789234|8.768607101536908|488.28179100116137| 467.3357557342096| 40.21006089213008| 533.2641319903753|497.4571415143923|44.63329169019399|   NULL|1632.4719381393159|   NULL|  NULL|  NULL| 93.68830465900963| 733.2330333236774| 4.661315707848447|19.300845657412882|               NULL|                NULL|\n",
            "|    min|                0|  2013|                 1|                1|               1.0|              1000|              -1.0|               1.0|                1|             -1.0|     9E|                 1| D942DN|   EWR|   ABQ|             100.0|              1005|                 1|                 0|2013-01-01 05:00:00|AirTran Airways C...|\n",
            "|    25%|          84200.0|2013.0|               4.0|              8.0|             908.0|             906.0|              -5.0|            1104.0|           1124.0|            -17.0|   NULL|             553.0|   NULL|  NULL|  NULL|              82.0|             502.0|               9.0|               8.0|               NULL|                NULL|\n",
            "|    50%|         168369.0|2013.0|               7.0|             16.0|            1401.0|            1359.0|              -2.0|            1536.0|           1556.0|             -5.0|   NULL|            1496.0|   NULL|  NULL|  NULL|             129.0|             872.0|              13.0|              29.0|               NULL|                NULL|\n",
            "|    75%|         252563.0|2013.0|              10.0|             23.0|            1744.0|            1729.0|              11.0|            1940.0|           1945.0|             14.0|   NULL|            3465.0|   NULL|  NULL|  NULL|             192.0|            1389.0|              17.0|              44.0|               NULL|                NULL|\n",
            "|    max|            99999|  2013|                 9|                9|             959.0|               959|              99.0|             959.0|              959|             99.0|     YV|               999| N9EAMQ|   LGA|   XNA|              99.0|               997|                 9|                 9|2013-12-31 23:00:00|      Virgin America|\n",
            "+-------+-----------------+------+------------------+-----------------+------------------+------------------+------------------+------------------+-----------------+-----------------+-------+------------------+-------+------+------+------------------+------------------+------------------+------------------+-------------------+--------------------+\n",
            "\n"
          ]
        }
      ]
    },
    {
      "cell_type": "code",
      "source": [
        "# count unique values\n",
        "from pyspark.sql.functions import countDistinct\n",
        "\n",
        "# Count unique values in specific column(s)\n",
        "flight_df.select([countDistinct(c).alias(c) for c in flight_df.columns]).show()\n"
      ],
      "metadata": {
        "colab": {
          "base_uri": "https://localhost:8080/"
        },
        "id": "cd04VT3-7v93",
        "outputId": "e5e99102-f008-4473-c437-d5e98dd686e0"
      },
      "execution_count": null,
      "outputs": [
        {
          "output_type": "stream",
          "name": "stdout",
          "text": [
            "+------+----+-----+---+--------+--------------+---------+--------+--------------+---------+-------+------+-------+------+----+--------+--------+----+------+---------+----+\n",
            "|    id|year|month|day|dep_time|sched_dep_time|dep_delay|arr_time|sched_arr_time|arr_delay|carrier|flight|tailnum|origin|dest|air_time|distance|hour|minute|time_hour|name|\n",
            "+------+----+-----+---+--------+--------------+---------+--------+--------------+---------+-------+------+-------+------+----+--------+--------+----+------+---------+----+\n",
            "|336776|   1|   12| 31|    1318|          1021|      527|    1411|          1163|      577|     16|  3844|   4043|     3| 105|     509|     214|  20|    60|     6936|  16|\n",
            "+------+----+-----+---+--------+--------------+---------+--------+--------------+---------+-------+------+-------+------+----+--------+--------+----+------+---------+----+\n",
            "\n"
          ]
        }
      ]
    },
    {
      "cell_type": "code",
      "source": [
        "from pyspark.sql.functions import col, sum\n",
        "\n",
        "# Count null values in each column\n",
        "flight_df.select([sum(col(c).isNull().cast(\"int\")).alias(c) for c in flight_df.columns]).show()\n"
      ],
      "metadata": {
        "colab": {
          "base_uri": "https://localhost:8080/"
        },
        "id": "S94E6yv678YJ",
        "outputId": "d703b04d-7777-4978-89e8-dacdc4bce0eb"
      },
      "execution_count": null,
      "outputs": [
        {
          "output_type": "stream",
          "name": "stdout",
          "text": [
            "+---+----+-----+---+--------+--------------+---------+--------+--------------+---------+-------+------+-------+------+----+--------+--------+----+------+---------+----+\n",
            "| id|year|month|day|dep_time|sched_dep_time|dep_delay|arr_time|sched_arr_time|arr_delay|carrier|flight|tailnum|origin|dest|air_time|distance|hour|minute|time_hour|name|\n",
            "+---+----+-----+---+--------+--------------+---------+--------+--------------+---------+-------+------+-------+------+----+--------+--------+----+------+---------+----+\n",
            "|  0|   0|    0|  0|    8255|             0|     8255|    8713|             0|     9430|      0|     0|   2512|     0|   0|    9430|       0|   0|     0|        0|   0|\n",
            "+---+----+-----+---+--------+--------------+---------+--------+--------------+---------+-------+------+-------+------+----+--------+--------+----+------+---------+----+\n",
            "\n"
          ]
        }
      ]
    },
    {
      "cell_type": "code",
      "source": [
        "from pyspark.sql.functions import avg\n",
        "flight_df.select(avg(\"air_time\")).show()"
      ],
      "metadata": {
        "colab": {
          "base_uri": "https://localhost:8080/"
        },
        "id": "TCXEIrOr8NlI",
        "outputId": "799f7505-7c38-4aed-d2b7-fe2d3d19bbaa"
      },
      "execution_count": null,
      "outputs": [
        {
          "output_type": "stream",
          "name": "stdout",
          "text": [
            "+------------------+\n",
            "|     avg(air_time)|\n",
            "+------------------+\n",
            "|150.68646019807787|\n",
            "+------------------+\n",
            "\n"
          ]
        }
      ]
    },
    {
      "cell_type": "code",
      "source": [
        "flight_grouped = flight_df.groupBy(\"carrier\").agg({\"air_time\": \"sum\"}).show()\n",
        "flight_grouped"
      ],
      "metadata": {
        "colab": {
          "base_uri": "https://localhost:8080/"
        },
        "id": "3Anr0TWpGMr7",
        "outputId": "4eaf1562-9828-4931-c0e7-4525df15deef"
      },
      "execution_count": null,
      "outputs": [
        {
          "output_type": "stream",
          "name": "stdout",
          "text": [
            "+-------+-------------+\n",
            "|carrier|sum(air_time)|\n",
            "+-------+-------------+\n",
            "|     UA|  1.2237728E7|\n",
            "|     AA|    6032306.0|\n",
            "|     EV|    4603614.0|\n",
            "|     B6|    8170975.0|\n",
            "|     DL|    8277661.0|\n",
            "|     OO|       2421.0|\n",
            "|     F9|     156357.0|\n",
            "|     YV|      35763.0|\n",
            "|     US|    1756507.0|\n",
            "|     MQ|    2282880.0|\n",
            "|     HA|     213096.0|\n",
            "|     AS|     230863.0|\n",
            "|     FL|     321132.0|\n",
            "|     VX|    1724104.0|\n",
            "|     WN|    1780402.0|\n",
            "|     9E|    1500801.0|\n",
            "+-------+-------------+\n",
            "\n"
          ]
        }
      ]
    },
    {
      "cell_type": "code",
      "source": [],
      "metadata": {
        "id": "FaSoDwdbGWII"
      },
      "execution_count": null,
      "outputs": []
    }
  ]
}